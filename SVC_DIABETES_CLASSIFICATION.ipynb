{
 "nbformat": 4,
 "nbformat_minor": 0,
 "metadata": {
  "colab": {
   "provenance": [],
   "collapsed_sections": [
    "MYyQlg0-Vk6B",
    "q1pHB5WY41_2"
   ]
  },
  "kernelspec": {
   "name": "python3",
   "display_name": "Python 3"
  },
  "language_info": {
   "name": "python"
  }
 },
 "cells": [
  {
   "metadata": {},
   "cell_type": "markdown",
   "source": [
    "# Pima Indians Diabetes Classification using SVC\n",
    "\n",
    "This project aims to show the importance of choosing cross-validation applied to SVMs"
   ]
  },
  {
   "metadata": {
    "id": "KzrpwBL8U93n"
   },
   "cell_type": "markdown",
   "source": "## 0) Imports & Config"
  },
  {
   "cell_type": "code",
   "source": [
    "# imports\n",
    "import warnings\n",
    "warnings.filterwarnings(\"ignore\")\n",
    "\n",
    "import numpy as np\n",
    "import pandas as pd\n",
    "import matplotlib.pyplot as plt\n",
    "\n",
    "from sklearn.model_selection import (\n",
    "    GridSearchCV, KFold, StratifiedKFold, train_test_split\n",
    ")\n",
    "from sklearn.pipeline import Pipeline\n",
    "from sklearn.impute import SimpleImputer\n",
    "from sklearn.preprocessing import StandardScaler\n",
    "from sklearn.svm import SVC\n",
    "\n",
    "from sklearn.metrics import (\n",
    "    accuracy_score, f1_score, recall_score, ConfusionMatrixDisplay, classification_report\n",
    ")\n",
    "\n",
    "# random state\n",
    "RANDOM_STATE = 42"
   ],
   "metadata": {
    "id": "6Qwf3t2GVEyH",
    "executionInfo": {
     "status": "ok",
     "timestamp": 1757859922268,
     "user_tz": 180,
     "elapsed": 3697,
     "user": {
      "displayName": "Mauro Junior",
      "userId": "01339421157731819780"
     }
    },
    "ExecuteTime": {
     "end_time": "2025-10-18T04:12:42.001397Z",
     "start_time": "2025-10-18T04:12:41.997204Z"
    }
   },
   "outputs": [],
   "execution_count": 5
  },
  {
   "cell_type": "markdown",
   "source": "## 1) Load data & split",
   "metadata": {
    "id": "QYqrUsJtU97y"
   }
  },
  {
   "cell_type": "code",
   "source": [
    "# https://www.kaggle.com/datasets/uciml/pima-indians-diabetes-database?resource=download\n",
    "df = pd.read_csv(\"diabetes.csv\")\n",
    "\n",
    "# separate features and target\n",
    "X = df.drop(\"Outcome\", axis=1).values\n",
    "y = df[\"Outcome\"].values\n",
    "\n",
    "# labels\n",
    "labels = [\"non-diabetic\", \"diabetic\"]\n",
    "\n",
    "# train-test split (80/20)\n",
    "X_train, X_test, y_train, y_test = train_test_split(\n",
    "    X, y, test_size=0.2, random_state=RANDOM_STATE, stratify=y\n",
    ")\n",
    "\n",
    "print(\"Shapes:\", \"X_train\", X_train.shape, \"| X_test\", X_test.shape)\n",
    "print(\"Class distribution (train):\", np.bincount(y_train))\n",
    "print(\"Class distribution (test):\", np.bincount(y_test))\n",
    "\n",
    "# dataset size\n",
    "print(\"Total samples:\", len(df))\n"
   ],
   "metadata": {
    "colab": {
     "base_uri": "https://localhost:8080/"
    },
    "id": "utstfcvfVlis",
    "executionInfo": {
     "status": "ok",
     "timestamp": 1757859968687,
     "user_tz": 180,
     "elapsed": 42,
     "user": {
      "displayName": "Mauro Junior",
      "userId": "01339421157731819780"
     }
    },
    "outputId": "55d5acc2-efc0-4079-d3ba-a8416766e88d",
    "ExecuteTime": {
     "end_time": "2025-10-18T04:12:43.440162Z",
     "start_time": "2025-10-18T04:12:43.421717Z"
    }
   },
   "outputs": [
    {
     "name": "stdout",
     "output_type": "stream",
     "text": [
      "Shapes: X_train (614, 8) | X_test (154, 8)\n",
      "Class distribution (train): [400 214]\n",
      "Class distribution (test): [100  54]\n",
      "Total samples: 768\n"
     ]
    }
   ],
   "execution_count": 6
  },
  {
   "metadata": {},
   "cell_type": "markdown",
   "source": "## 2) Base pipeline (Impute → Scale → SVC)"
  },
  {
   "metadata": {
    "id": "HnXMGifUVsxa",
    "executionInfo": {
     "status": "ok",
     "timestamp": 1757860530430,
     "user_tz": 180,
     "elapsed": 16,
     "user": {
      "displayName": "Mauro Junior",
      "userId": "01339421157731819780"
     }
    },
    "ExecuteTime": {
     "end_time": "2025-10-18T04:12:45.206475Z",
     "start_time": "2025-10-18T04:12:45.203052Z"
    }
   },
   "cell_type": "code",
   "outputs": [],
   "execution_count": 7,
   "source": [
    "# pipeline\n",
    "pipe = Pipeline(steps=[\n",
    "    (\"imputer\", SimpleImputer(strategy=\"median\")),\n",
    "    (\"scaler\", StandardScaler()),\n",
    "    (\"clf\", SVC())\n",
    "])"
   ]
  },
  {
   "metadata": {},
   "cell_type": "markdown",
   "source": "## 3) Parameter grid (linear / rbf / poly / sigmoid)"
  },
  {
   "metadata": {
    "ExecuteTime": {
     "end_time": "2025-10-18T04:23:58.540457Z",
     "start_time": "2025-10-18T04:23:58.536287Z"
    }
   },
   "cell_type": "code",
   "source": [
    "# param grid\n",
    "param_grid = [\n",
    "    {\"clf__kernel\": [\"linear\"], \"clf__C\": [0.01, 0.1, 1, 10, 100]},\n",
    "    {\"clf__kernel\": [\"rbf\"], \"clf__C\": [0.01, 0.1, 1, 10, 100], \"clf__gamma\": [\"scale\", 0.01, 0.001]},\n",
    "    {\"clf__kernel\": [\"poly\", \"sigmoid\"], \"clf__C\": [0.01, 0.1, 1, 10, 100]},\n",
    "]"
   ],
   "outputs": [],
   "execution_count": 9
  },
  {
   "cell_type": "markdown",
   "source": "## 4) GridSearchCV (10-fold, stratified)\n",
   "metadata": {
    "id": "MYyQlg0-Vk6B"
   }
  },
  {
   "cell_type": "code",
   "source": [
    "# KFold with 10 splits\n",
    "cv10 = KFold(n_splits=10, shuffle=True, random_state=RANDOM_STATE)\n",
    "\n",
    "# GridSearchCV parameters\n",
    "gs_k10 = GridSearchCV(\n",
    "    estimator=pipe,\n",
    "    param_grid=param_grid,\n",
    "    scoring=\"accuracy\",\n",
    "    cv=cv10,\n",
    "    n_jobs=-1,\n",
    "    refit=True,\n",
    "    return_train_score=True\n",
    ")\n",
    "\n",
    "# model training\n",
    "gs_k10.fit(X_train, y_train)\n",
    "\n",
    "# extracting information about the best model\n",
    "best_kernel = gs_k10.best_params_['clf__kernel']\n",
    "best_c = gs_k10.best_params_['clf__C']\n",
    "y_pred = gs_k10.predict(X_test)\n",
    "\n",
    "# accuracy\n",
    "acc = accuracy_score(y_test, y_pred)\n",
    "\n",
    "# displaying results\n",
    "print(\"Best kernel (Grid Search):\", best_kernel)\n",
    "print(\"Best C:\", best_c)\n",
    "print(f\"Test Accuracy (best kernel): {acc * 100:.2f}%\")\n",
    "\n",
    "# confusion matrix\n",
    "ConfusionMatrixDisplay.from_predictions(y_test, y_pred, display_labels=labels)\n",
    "plt.title(\"Confusion Matrix (Best Kernel)\")\n",
    "plt.show()"
   ],
   "metadata": {
    "colab": {
     "base_uri": "https://localhost:8080/",
     "height": 524
    },
    "id": "jNAC_7p-zGdd",
    "executionInfo": {
     "status": "ok",
     "timestamp": 1757860840806,
     "user_tz": 180,
     "elapsed": 18328,
     "user": {
      "displayName": "Mauro Junior",
      "userId": "01339421157731819780"
     }
    },
    "outputId": "91e6ca8b-2cd1-41d6-970a-92f0606a428f",
    "ExecuteTime": {
     "end_time": "2025-10-18T04:13:01.602931Z",
     "start_time": "2025-10-18T04:12:49.659975Z"
    }
   },
   "outputs": [
    {
     "name": "stdout",
     "output_type": "stream",
     "text": [
      "Best kernel (Grid Search): linear\n",
      "Best C: 0.1\n",
      "Test Accuracy (best kernel): 72.08%\n"
     ]
    },
    {
     "data": {
      "text/plain": [
       "<Figure size 640x480 with 2 Axes>"
      ],
      "image/png": "[encoded data removed]"
     },
     "metadata": {},
     "output_type": "display_data"
    }
   ],
   "execution_count": 8
  },
  {
   "cell_type": "markdown",
   "source": "## 5) GridSearchCV (3-fold, stratified — quick check)",
   "metadata": {
    "id": "q1pHB5WY41_2"
   }
  },
  {
   "cell_type": "code",
   "source": [
    "# StratifiedKFold with 3 splits\n",
    "cv3 = StratifiedKFold(n_splits=3, shuffle=True, random_state=RANDOM_STATE)\n",
    "\n",
    "# GridSearchCV parameters\n",
    "gs_s3 = GridSearchCV(\n",
    "    estimator=pipe,\n",
    "    param_grid=param_grid,\n",
    "    scoring=\"accuracy\",\n",
    "    cv=cv3,\n",
    "    n_jobs=-1,\n",
    "    refit=True,\n",
    "    return_train_score=True\n",
    ")\n",
    "\n",
    "# model training\n",
    "gs_s3.fit(X_train, y_train)\n",
    "\n",
    "# extracting the best parameters\n",
    "best_kernel = gs_s3.best_params_['clf__kernel']\n",
    "best_c = gs_s3.best_params_['clf__C']\n",
    "best_gamma = gs_s3.best_params_['clf__gamma']\n",
    "y_pred = gs_s3.predict(X_test)\n",
    "\n",
    "# accuracy\n",
    "acc = accuracy_score(y_test, y_pred)\n",
    "\n",
    "# Displaying information\n",
    "print(\"Best kernel (Grid Search):\", best_kernel)\n",
    "print(\"Best C:\", best_c)\n",
    "print(\"Best Gamma:\", best_gamma)\n",
    "print(f\"Test Accuracy (best kernel): {acc * 100:.2f}%\")\n",
    "\n",
    "# confusion matrix\n",
    "ConfusionMatrixDisplay.from_predictions(y_test, y_pred, display_labels=labels)\n",
    "plt.title(\"Confusion Matrix (Best Kernel)\")\n",
    "plt.show()\n"
   ],
   "metadata": {
    "colab": {
     "base_uri": "https://localhost:8080/",
     "height": 541
    },
    "id": "sPN2tL7z5EKN",
    "executionInfo": {
     "status": "ok",
     "timestamp": 1757861142439,
     "user_tz": 180,
     "elapsed": 4679,
     "user": {
      "displayName": "Mauro Junior",
      "userId": "01339421157731819780"
     }
    },
    "outputId": "fac366c7-743b-4ee3-bb14-b09b5c1cbf5d",
    "ExecuteTime": {
     "end_time": "2025-10-18T04:24:11.896031Z",
     "start_time": "2025-10-18T04:24:08.031813Z"
    }
   },
   "outputs": [
    {
     "name": "stdout",
     "output_type": "stream",
     "text": [
      "Best kernel (Grid Search): rbf\n",
      "Best C: 10\n",
      "Best Gamma: 0.01\n",
      "Test Accuracy (best kernel): 75.32%\n"
     ]
    },
    {
     "data": {
      "text/plain": [
       "<Figure size 640x480 with 2 Axes>"
      ],
      "image/png": "[encoded data removed]"
     },
     "metadata": {},
     "output_type": "display_data"
    }
   ],
   "execution_count": 10
  },
  {
   "cell_type": "markdown",
   "source": "## 6) Hold Out",
   "metadata": {
    "id": "rMhkvAal6qDg"
   }
  },
  {
   "cell_type": "code",
   "source": [
    "model = Pipeline(steps=[\n",
    "    (\"imputer\", SimpleImputer(strategy=\"median\")),\n",
    "    (\"scaler\", StandardScaler()),\n",
    "    (\"clf\", SVC(kernel=\"rbf\", C=10, gamma=0.01))\n",
    "])\n",
    "\n",
    "model.fit(X_train, y_train)\n",
    "\n",
    "# previsions on test set\n",
    "y_pred = model.predict(X_test)\n",
    "\n",
    "# metrics\n",
    "acc = accuracy_score(y_test, y_pred)\n",
    "f1  = f1_score(y_test, y_pred)\n",
    "rec = recall_score(y_test, y_pred)\n",
    "\n",
    "# results\n",
    "print(f\"\\nHold-out [rbf]\")\n",
    "print(f\"Accuracy: {acc*100:.2f}%  |  F1: {f1:.4f}  |  Recall+: {rec:.4f}\")\n",
    "print(\"\\nClassification report:\")\n",
    "print(classification_report (y_test, y_pred, target_names=labels, digits=4))\n",
    "\n",
    "# confusion matrix\n",
    "ConfusionMatrixDisplay.from_predictions(y_test, y_pred, display_labels=labels)\n",
    "plt.title(f\"Confusion Matrix — {best_kernel}\")\n",
    "plt.tight_layout()\n",
    "plt.show()"
   ],
   "metadata": {
    "colab": {
     "base_uri": "https://localhost:8080/",
     "height": 730
    },
    "id": "zR48QR266ooJ",
    "executionInfo": {
     "status": "ok",
     "timestamp": 1757861147715,
     "user_tz": 180,
     "elapsed": 218,
     "user": {
      "displayName": "Mauro Junior",
      "userId": "01339421157731819780"
     }
    },
    "outputId": "1a8edfbb-3d9c-4961-e9e9-0a7070f9f3e7",
    "ExecuteTime": {
     "end_time": "2025-10-18T04:24:25.533697Z",
     "start_time": "2025-10-18T04:24:25.419939Z"
    }
   },
   "outputs": [
    {
     "name": "stdout",
     "output_type": "stream",
     "text": [
      "\n",
      "Hold-out [rbf]\n",
      "Accuracy: 75.32%  |  F1: 0.6042  |  Recall+: 0.5370\n",
      "\n",
      "Classification report:\n",
      "              precision    recall  f1-score   support\n",
      "\n",
      "non-diabetic     0.7768    0.8700    0.8208       100\n",
      "    diabetic     0.6905    0.5370    0.6042        54\n",
      "\n",
      "    accuracy                         0.7532       154\n",
      "   macro avg     0.7336    0.7035    0.7125       154\n",
      "weighted avg     0.7465    0.7532    0.7448       154\n",
      "\n"
     ]
    },
    {
     "data": {
      "text/plain": [
       "<Figure size 640x480 with 2 Axes>"
      ],
      "image/png": "[encoded data removed]"
     },
     "metadata": {},
     "output_type": "display_data"
    }
   ],
   "execution_count": 11
  },
  {
   "cell_type": "markdown",
   "source": "## 7) Classification report → DataFrame (pretty)#### Classification Report",
   "metadata": {
    "id": "BY6fKmWZPgZu"
   }
  },
  {
   "cell_type": "code",
   "source": [
    "classes = np.unique(y_test)\n",
    "name_map = {0: \"non diabétic\", 1: \"diabetic\"}\n",
    "target_names = [name_map.get(int(c), str(c)) for c in classes]\n",
    "rep = classification_report(\n",
    "   y_test, y_pred,\n",
    "   labels=classes,\n",
    "   target_names=target_names,\n",
    "   output_dict=True,\n",
    "   zero_division=0\n",
    ")\n",
    "df = pd.DataFrame(rep).transpose()\n",
    "order = target_names + [\"accuracy\", \"macro avg\", \"weighted avg\"]\n",
    "df = df.loc[order, [\"precision\", \"recall\", \"f1-score\", \"support\"]]\n",
    "df = df.round({\"precision\":4, \"recall\":4, \"f1-score\":4})\n",
    "df[\"support\"] = df[\"support\"].astype(int)\n",
    "display(df)"
   ],
   "metadata": {
    "colab": {
     "base_uri": "https://localhost:8080/",
     "height": 206
    },
    "collapsed": true,
    "id": "d8wafgagclmy",
    "executionInfo": {
     "status": "ok",
     "timestamp": 1757861277148,
     "user_tz": 180,
     "elapsed": 57,
     "user": {
      "displayName": "Mauro Junior",
      "userId": "01339421157731819780"
     }
    },
    "outputId": "9bcd5a56-820c-45fa-8e63-694698327557",
    "ExecuteTime": {
     "end_time": "2025-10-18T04:25:42.427994Z",
     "start_time": "2025-10-18T04:25:42.413443Z"
    }
   },
   "outputs": [
    {
     "data": {
      "text/plain": [
       "              precision  recall  f1-score  support\n",
       "non diabétic     0.7768  0.8700    0.8208      100\n",
       "diabetic         0.6905  0.5370    0.6042       54\n",
       "accuracy         0.7532  0.7532    0.7532        0\n",
       "macro avg        0.7336  0.7035    0.7125      154\n",
       "weighted avg     0.7465  0.7532    0.7448      154"
      ],
      "text/html": [
       "<div>\n",
       "<style scoped>\n",
       "    .dataframe tbody tr th:only-of-type {\n",
       "        vertical-align: middle;\n",
       "    }\n",
       "\n",
       "    .dataframe tbody tr th {\n",
       "        vertical-align: top;\n",
       "    }\n",
       "\n",
       "    .dataframe thead th {\n",
       "        text-align: right;\n",
       "    }\n",
       "</style>\n",
       "<table border=\"1\" class=\"dataframe\">\n",
       "  <thead>\n",
       "    <tr style=\"text-align: right;\">\n",
       "      <th></th>\n",
       "      <th>precision</th>\n",
       "      <th>recall</th>\n",
       "      <th>f1-score</th>\n",
       "      <th>support</th>\n",
       "    </tr>\n",
       "  </thead>\n",
       "  <tbody>\n",
       "    <tr>\n",
       "      <th>non diabétic</th>\n",
       "      <td>0.7768</td>\n",
       "      <td>0.8700</td>\n",
       "      <td>0.8208</td>\n",
       "      <td>100</td>\n",
       "    </tr>\n",
       "    <tr>\n",
       "      <th>diabetic</th>\n",
       "      <td>0.6905</td>\n",
       "      <td>0.5370</td>\n",
       "      <td>0.6042</td>\n",
       "      <td>54</td>\n",
       "    </tr>\n",
       "    <tr>\n",
       "      <th>accuracy</th>\n",
       "      <td>0.7532</td>\n",
       "      <td>0.7532</td>\n",
       "      <td>0.7532</td>\n",
       "      <td>0</td>\n",
       "    </tr>\n",
       "    <tr>\n",
       "      <th>macro avg</th>\n",
       "      <td>0.7336</td>\n",
       "      <td>0.7035</td>\n",
       "      <td>0.7125</td>\n",
       "      <td>154</td>\n",
       "    </tr>\n",
       "    <tr>\n",
       "      <th>weighted avg</th>\n",
       "      <td>0.7465</td>\n",
       "      <td>0.7532</td>\n",
       "      <td>0.7448</td>\n",
       "      <td>154</td>\n",
       "    </tr>\n",
       "  </tbody>\n",
       "</table>\n",
       "</div>"
      ]
     },
     "metadata": {},
     "output_type": "display_data"
    }
   ],
   "execution_count": 15
  }
 ]
}
